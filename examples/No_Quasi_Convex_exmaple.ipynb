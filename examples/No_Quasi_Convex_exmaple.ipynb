{
 "cells": [
  {
   "metadata": {},
   "cell_type": "markdown",
   "source": "此文件展示了为什么目标函数$\\|G(\\pi)\\|_2^2$是非准凸的，在二类情况下，目标函数有多个局部最小值，就能证明$\\|G(\\pi)\\|_2^2$是非准凸的",
   "id": "de40b72d34122690"
  },
  {
   "metadata": {},
   "cell_type": "code",
   "outputs": [],
   "execution_count": null,
   "source": [
    "import matplotlib.pyplot as plt\n",
    "import numpy as np\n",
    "from sklearn import datasets\n",
    "from dbc.main import KmeansDiscreteMinimaxClassifier, CmeansDiscreteBayesianClassifier\n",
    "from dbc.utils import compute_conditional_risk\n",
    "from sklearn.model_selection import train_test_split"
   ],
   "id": "19306382006ecf05"
  },
  {
   "metadata": {},
   "cell_type": "code",
   "outputs": [],
   "execution_count": null,
   "source": [
    "num=10000\n",
    "risks_DMC = np.zeros([num, 2])\n",
    "risks_SPDBC = np.zeros([num, 2])\n",
    "\n",
    "X, y = datasets.make_blobs(\n",
    "    n_samples= [125 * 5 , 125 * 1],\n",
    "    n_features=2,\n",
    "    centers=[(9.5, 10), (11, 9)],\n",
    "    cluster_std=[[0.6, 0.6], [0.3, 0.3]],\n",
    "    shuffle=True,\n",
    "    random_state=43\n",
    ")\n",
    "\n",
    "# 分割数据集，test_size=0.2表示测试集占20%\n",
    "X_train, X_test, y_train, y_test = train_test_split(\n",
    "    X, y,\n",
    "    test_size=0.2,  # 测试集比例\n",
    "    random_state=43,  # 随机种子，确保结果可重现\n",
    "    stratify=y  # 保持分割后各类别的比例与原始数据集一致\n",
    ")\n",
    "\n",
    "# DMC = KmeansDiscreteMinimaxClassifier(n_clusters=15)\n",
    "# DMC.fit(X_train, y_train)\n",
    "\n",
    "# SPDBC = CmeansDiscreteBayesianClassifier(n_clusters=15, fuzzifier=2, cluster_centers=DMC.cluster_centers)\n",
    "SPDBC = CmeansDiscreteBayesianClassifier(n_clusters=15, fuzzifier=2)\n",
    "SPDBC.fit(X_train, y_train)\n",
    "\n",
    "# 创建prior_pred矩阵\n",
    "prior_values = np.linspace(0, 1, num)  # 生成0到1之间的100个值\n",
    "prior_pred = np.zeros((num, 2))\n",
    "prior_pred[:, 0] = prior_values\n",
    "prior_pred[:, 1] = 1 - prior_values  # 确保每行和为1\n",
    "\n",
    "# 计算不同prior下的风险\n",
    "risks = np.zeros((num, 2))\n",
    "for i in range(num):\n",
    "    y_pred = SPDBC.predict(X_train, prior_pred=prior_pred[i, :].reshape(1, -1))\n",
    "    risk = compute_conditional_risk(y_train, y_pred)\n",
    "    risks[i,:] = risk[0]\n",
    "r = prior_pred[:, 0] * risks[:,0]  + prior_pred[:, 1] * risks[:,1]  # 贝叶斯风险\n",
    "\n",
    "plt.figure(figsize=(10, 6))\n",
    "plt.plot(prior_values, risks[:,0], 'r-', label='0 CCR')  # 0类类条件风险\n",
    "plt.plot(prior_values, risks[:,1], 'b-', label='1 CCR')  # 1类类条件风险\n",
    "\n",
    "Objective_Function = (risks[:,0] - r)**2 + (risks[:,1] - r)**2\n",
    "A_Function = (risks[:,0] - risks[:,1])**2\n",
    "B_Function = 1 - 2 * prior_pred[:,0] + 2 * prior_pred[:,0]**2\n",
    "\n",
    "# plt.plot(prior_values, Objective_Function, label='Objective Function=A*B')\n",
    "# plt.plot(prior_values, A_Function, label='Function A')\n",
    "# plt.plot(prior_values, B_Function, label='Function B')\n",
    "\n",
    "plt.legend()"
   ],
   "id": "a728cd011cb882c6"
  },
  {
   "metadata": {},
   "cell_type": "markdown",
   "source": [
    "由于在二分类情况下，$\\hat{R}_0$为不增函数，$\\hat{R}_1$为不减函数，所以$A=(\\hat{R}_0 - \\hat{R}_1)^2$会是一个单古函数，谷底在$\\pi^*:\\hat{R}_0=\\hat{R}_1$,因此是准凸的。\n",
    "函数$B=(1 - 2\\pi_0 + 2\\pi_0^2)$显而易见是凸的，但是极点在1/2处，与函数A不同。\n",
    "因此两者的乘积由于极点位置不同，并不能保证是准凸的，以下放大上图中的目标函数即可看出，目标函数会有很多个局部最小值点"
   ],
   "id": "371b29a83274d80e"
  },
  {
   "metadata": {},
   "cell_type": "code",
   "outputs": [],
   "execution_count": null,
   "source": [
    "plt.figure(figsize=(10, 6))\n",
    "plt.plot(prior_values, Objective_Function)\n",
    "# plt.scatter(prior_values, Objective_Function)\n",
    "plt.ylim([0,0.001])"
   ],
   "id": "80ff1cf8e6a4d3bf"
  },
  {
   "metadata": {},
   "cell_type": "markdown",
   "source": "我们可以使用find_peaks函数来查找局部峰值，由于我们查找的是局部最小值，因此需要添加负号",
   "id": "7fe25b7da91ad07c"
  },
  {
   "metadata": {},
   "cell_type": "code",
   "outputs": [],
   "execution_count": null,
   "source": [
    "from scipy.signal import find_peaks\n",
    "find_peaks(-Objective_Function)"
   ],
   "id": "817c79bd4717969f"
  },
  {
   "metadata": {},
   "cell_type": "markdown",
   "source": "正常的准凸函数，如函数A，只会有一个局部最小值",
   "id": "bb2741be6253e51c"
  },
  {
   "metadata": {},
   "cell_type": "code",
   "outputs": [],
   "execution_count": null,
   "source": [
    "from scipy.signal import find_peaks\n",
    "find_peaks(-A_Function)"
   ],
   "id": "76c1339afa98d6d"
  },
  {
   "metadata": {},
   "cell_type": "markdown",
   "source": "我们输出在两步之间的增减幅度，可以看到，在最优点附近，变化幅度出现了多次正负交替，可以说明出现了多次的局部最小值",
   "id": "23746e25a984b743"
  },
  {
   "metadata": {},
   "cell_type": "code",
   "outputs": [],
   "execution_count": null,
   "source": [
    "plt.figure(figsize=(10, 6))\n",
    "plt.plot(prior_values[:-1], np.diff((risks[:,1] - r)**2 + (risks[:,0] - r)**2))\n",
    "plt.ylim([-0.00001,0.00001])"
   ],
   "id": "af383614d196457"
  },
  {
   "metadata": {},
   "cell_type": "markdown",
   "source": "综上所诉，我们的目标函数并不能保证其准凸性，需要找到一个其他方法。",
   "id": "42d4ccceb9400221"
  },
  {
   "metadata": {},
   "cell_type": "code",
   "outputs": [],
   "execution_count": null,
   "source": "",
   "id": "43888cd2f00bd7aa"
  }
 ],
 "metadata": {},
 "nbformat": 4,
 "nbformat_minor": 5
}
