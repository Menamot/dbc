{
 "cells": [
  {
   "cell_type": "code",
   "id": "initial_id",
   "metadata": {
    "collapsed": true,
    "ExecuteTime": {
     "end_time": "2025-06-19T16:10:11.162492Z",
     "start_time": "2025-06-19T16:10:10.474307Z"
    }
   },
   "source": [
    "from sklearn.preprocessing import LabelEncoder\n",
    "from ucimlrepo import fetch_ucirepo\n",
    "from dbc.main import KmeansDiscreteMinimaxClassifier, CmeansDiscreteMinmaxClassifier\n",
    "from dbc import compute_conditional_risk"
   ],
   "outputs": [],
   "execution_count": 1
  },
  {
   "metadata": {
    "ExecuteTime": {
     "end_time": "2025-06-19T13:37:46.390921Z",
     "start_time": "2025-06-19T13:37:22.372390Z"
    }
   },
   "cell_type": "code",
   "source": [
    "# fetch dataset\n",
    "breast_cancer_wisconsin_diagnostic = fetch_ucirepo(id=17)\n",
    "\n",
    "# data (as pandas dataframes)\n",
    "X = breast_cancer_wisconsin_diagnostic.data.features\n",
    "y = breast_cancer_wisconsin_diagnostic.data.targets.values.ravel()\n",
    "y = LabelEncoder().fit_transform(y)"
   ],
   "id": "18daa8f184c94d5c",
   "outputs": [],
   "execution_count": 2
  },
  {
   "metadata": {
    "ExecuteTime": {
     "end_time": "2025-06-19T13:41:06.169265Z",
     "start_time": "2025-06-19T13:41:05.021319Z"
    }
   },
   "cell_type": "code",
   "source": [
    "# fetch dataset\n",
    "iris = fetch_ucirepo(id=53)\n",
    "\n",
    "# data (as pandas dataframes)\n",
    "X = iris.data.features\n",
    "y = iris.data.targets\n",
    "y = LabelEncoder().fit_transform(y)"
   ],
   "id": "2c6bf4b202bd35e3",
   "outputs": [
    {
     "name": "stderr",
     "output_type": "stream",
     "text": [
      "D:\\program\\Miniconda3\\envs\\RML\\Lib\\site-packages\\sklearn\\preprocessing\\_label.py:114: DataConversionWarning: A column-vector y was passed when a 1d array was expected. Please change the shape of y to (n_samples, ), for example using ravel().\n",
      "  y = column_or_1d(y, warn=True)\n"
     ]
    }
   ],
   "execution_count": 24
  },
  {
   "metadata": {
    "ExecuteTime": {
     "end_time": "2025-06-19T16:10:14.836092Z",
     "start_time": "2025-06-19T16:10:12.947602Z"
    }
   },
   "cell_type": "code",
   "source": [
    "# fetch dataset\n",
    "wine_quality = fetch_ucirepo(id=186)\n",
    "\n",
    "# data (as pandas dataframes)\n",
    "X = wine_quality.data.features\n",
    "y = wine_quality.data.targets\n",
    "y = LabelEncoder().fit_transform(y)"
   ],
   "id": "a3d6a3d420b97831",
   "outputs": [
    {
     "name": "stderr",
     "output_type": "stream",
     "text": [
      "D:\\program\\Miniconda3\\envs\\RML\\Lib\\site-packages\\sklearn\\preprocessing\\_label.py:114: DataConversionWarning: A column-vector y was passed when a 1d array was expected. Please change the shape of y to (n_samples, ), for example using ravel().\n",
      "  y = column_or_1d(y, warn=True)\n"
     ]
    }
   ],
   "execution_count": 2
  },
  {
   "metadata": {
    "ExecuteTime": {
     "end_time": "2025-06-19T13:43:13.109757Z",
     "start_time": "2025-06-19T13:43:13.103253Z"
    }
   },
   "cell_type": "code",
   "source": "y",
   "id": "27462a83cc3e6eaf",
   "outputs": [
    {
     "data": {
      "text/plain": [
       "      quality\n",
       "0           5\n",
       "1           5\n",
       "2           5\n",
       "3           6\n",
       "4           5\n",
       "...       ...\n",
       "6492        6\n",
       "6493        5\n",
       "6494        6\n",
       "6495        7\n",
       "6496        6\n",
       "\n",
       "[6497 rows x 1 columns]"
      ],
      "text/html": [
       "<div>\n",
       "<style scoped>\n",
       "    .dataframe tbody tr th:only-of-type {\n",
       "        vertical-align: middle;\n",
       "    }\n",
       "\n",
       "    .dataframe tbody tr th {\n",
       "        vertical-align: top;\n",
       "    }\n",
       "\n",
       "    .dataframe thead th {\n",
       "        text-align: right;\n",
       "    }\n",
       "</style>\n",
       "<table border=\"1\" class=\"dataframe\">\n",
       "  <thead>\n",
       "    <tr style=\"text-align: right;\">\n",
       "      <th></th>\n",
       "      <th>quality</th>\n",
       "    </tr>\n",
       "  </thead>\n",
       "  <tbody>\n",
       "    <tr>\n",
       "      <th>0</th>\n",
       "      <td>5</td>\n",
       "    </tr>\n",
       "    <tr>\n",
       "      <th>1</th>\n",
       "      <td>5</td>\n",
       "    </tr>\n",
       "    <tr>\n",
       "      <th>2</th>\n",
       "      <td>5</td>\n",
       "    </tr>\n",
       "    <tr>\n",
       "      <th>3</th>\n",
       "      <td>6</td>\n",
       "    </tr>\n",
       "    <tr>\n",
       "      <th>4</th>\n",
       "      <td>5</td>\n",
       "    </tr>\n",
       "    <tr>\n",
       "      <th>...</th>\n",
       "      <td>...</td>\n",
       "    </tr>\n",
       "    <tr>\n",
       "      <th>6492</th>\n",
       "      <td>6</td>\n",
       "    </tr>\n",
       "    <tr>\n",
       "      <th>6493</th>\n",
       "      <td>5</td>\n",
       "    </tr>\n",
       "    <tr>\n",
       "      <th>6494</th>\n",
       "      <td>6</td>\n",
       "    </tr>\n",
       "    <tr>\n",
       "      <th>6495</th>\n",
       "      <td>7</td>\n",
       "    </tr>\n",
       "    <tr>\n",
       "      <th>6496</th>\n",
       "      <td>6</td>\n",
       "    </tr>\n",
       "  </tbody>\n",
       "</table>\n",
       "<p>6497 rows × 1 columns</p>\n",
       "</div>"
      ]
     },
     "execution_count": 31,
     "metadata": {},
     "output_type": "execute_result"
    }
   ],
   "execution_count": 31
  },
  {
   "metadata": {
    "ExecuteTime": {
     "end_time": "2025-06-19T13:41:10.103267Z",
     "start_time": "2025-06-19T13:41:09.359269Z"
    }
   },
   "cell_type": "code",
   "source": [
    "from dbc.utils import compute_SPDBC_pi_star\n",
    "from dbc import CmeansDiscreteBayesianClassifier\n",
    "T = 10\n",
    "fuzzifier = 2\n",
    "DMC = KmeansDiscreteMinimaxClassifier(n_clusters=T)\n",
    "DMC.fit(X, y)\n",
    "\n",
    "SPDBC = CmeansDiscreteBayesianClassifier(n_clusters=T, fuzzifier=fuzzifier, cluster_centers=DMC.cluster_centers)\n",
    "# SPDBC = CmeansDiscreteBayesianClassifier(n_clusters=T, fuzzifier=fuzzifier)\n",
    "SPDBC.fit(X, y)\n",
    "\n",
    "y_pred_DMC = DMC.predict(X)\n",
    "risks_DMC = compute_conditional_risk(y, y_pred_DMC)[0]\n",
    "\n",
    "pi_star_SPDBC, risk_history = compute_SPDBC_pi_star(X, y, SPDBC.loss_function, SPDBC.p_hat, SPDBC.membership_degree, SPDBC.prior, alpha=2, n_iter=300, eps=1e-3, return_history=True)\n",
    "\n",
    "y_pred_SPDBC = SPDBC.predict(X, prior_pred=pi_star_SPDBC)\n",
    "risks_SPDBC = compute_conditional_risk(y, y_pred_SPDBC)[0]\n",
    "\n",
    "print(\"DMC empirical class conditional risk:\\n\", risks_DMC, \"\\n\")\n",
    "print(\"SPDEC empirical class conditional risk:\\n\", risks_SPDBC, \"\\n\")"
   ],
   "id": "2cc83f7e6613d670",
   "outputs": [
    {
     "name": "stdout",
     "output_type": "stream",
     "text": [
      "DMC empirical class conditional risk:\n",
      " [0.   0.08 0.02] \n",
      "\n",
      "SPDEC empirical class conditional risk:\n",
      " [0.   0.02 0.02] \n",
      "\n"
     ]
    }
   ],
   "execution_count": 25
  },
  {
   "metadata": {
    "ExecuteTime": {
     "end_time": "2025-06-19T13:41:35.370582Z",
     "start_time": "2025-06-19T13:41:35.367296Z"
    }
   },
   "cell_type": "code",
   "source": "y_pred_DMC",
   "id": "5f149d773bae3355",
   "outputs": [
    {
     "data": {
      "text/plain": [
       "array([0, 0, 0, 0, 0, 0, 0, 0, 0, 0, 0, 0, 0, 0, 0, 0, 0, 0, 0, 0, 0, 0,\n",
       "       0, 0, 0, 0, 0, 0, 0, 0, 0, 0, 0, 0, 0, 0, 0, 0, 0, 0, 0, 0, 0, 0,\n",
       "       0, 0, 0, 0, 0, 0, 1, 1, 1, 1, 1, 1, 1, 1, 1, 1, 1, 1, 1, 1, 1, 1,\n",
       "       1, 1, 2, 1, 2, 1, 2, 1, 1, 1, 1, 1, 1, 1, 1, 1, 1, 2, 1, 1, 1, 1,\n",
       "       1, 1, 1, 1, 1, 1, 1, 1, 1, 1, 1, 1, 2, 2, 2, 2, 2, 2, 1, 2, 2, 2,\n",
       "       2, 2, 2, 2, 2, 2, 2, 2, 2, 2, 2, 2, 2, 2, 2, 2, 2, 2, 2, 2, 2, 2,\n",
       "       2, 2, 2, 2, 2, 2, 2, 2, 2, 2, 2, 2, 2, 2, 2, 2, 2, 2])"
      ]
     },
     "execution_count": 26,
     "metadata": {},
     "output_type": "execute_result"
    }
   ],
   "execution_count": 26
  },
  {
   "metadata": {
    "ExecuteTime": {
     "end_time": "2025-06-19T13:37:58.977133Z",
     "start_time": "2025-06-19T13:37:58.643524Z"
    }
   },
   "cell_type": "code",
   "source": [
    "\n",
    "from matplotlib import pyplot as plt\n",
    "plt.plot(risk_history)"
   ],
   "id": "cf5581ffe89e72bc",
   "outputs": [
    {
     "data": {
      "text/plain": [
       "[<matplotlib.lines.Line2D at 0x208d35fd970>]"
      ]
     },
     "execution_count": 4,
     "metadata": {},
     "output_type": "execute_result"
    },
    {
     "data": {
      "text/plain": [
       "<Figure size 640x480 with 1 Axes>"
      ],
      "image/png": "[encoded data removed]"
     },
     "metadata": {},
     "output_type": "display_data"
    }
   ],
   "execution_count": 4
  },
  {
   "metadata": {
    "ExecuteTime": {
     "end_time": "2025-06-19T16:10:20.003331Z",
     "start_time": "2025-06-19T16:10:19.891333Z"
    }
   },
   "cell_type": "code",
   "source": [
    "\n",
    "T = 10\n",
    "fuzzifier = 2\n",
    "DMC = KmeansDiscreteMinimaxClassifier(n_clusters=T)\n",
    "DMC.fit(X, y)\n",
    "y_pred_DMC = DMC.predict(X)\n",
    "risks_DMC = compute_conditional_risk(y, y_pred_DMC)[0]\n",
    "\n",
    "\n",
    "\n",
    "print(\"DMC empirical class conditional risk:\\n\", risks_DMC, \"\\n\")\n",
    "\n"
   ],
   "id": "e231511e924b959f",
   "outputs": [
    {
     "name": "stdout",
     "output_type": "stream",
     "text": [
      "DMC empirical class conditional risk:\n",
      " [0.8        0.86574074 0.73900842 0.69957687 0.8257646  0.63212435\n",
      " 1.        ] \n",
      "\n"
     ]
    },
    {
     "name": "stderr",
     "output_type": "stream",
     "text": [
      "D:\\program\\Miniconda3\\envs\\RML\\Lib\\site-packages\\joblib\\externals\\loky\\backend\\context.py:136: UserWarning: Could not find the number of physical cores for the following reason:\n",
      "[WinError 2] 系统找不到指定的文件。\n",
      "Returning the number of logical cores instead. You can silence this warning by setting LOKY_MAX_CPU_COUNT to the number of cores you want to use.\n",
      "  warnings.warn(\n",
      "  File \"D:\\program\\Miniconda3\\envs\\RML\\Lib\\site-packages\\joblib\\externals\\loky\\backend\\context.py\", line 257, in _count_physical_cores\n",
      "    cpu_info = subprocess.run(\n",
      "               ^^^^^^^^^^^^^^^\n",
      "  File \"D:\\program\\Miniconda3\\envs\\RML\\Lib\\subprocess.py\", line 548, in run\n",
      "    with Popen(*popenargs, **kwargs) as process:\n",
      "         ^^^^^^^^^^^^^^^^^^^^^^^^^^^\n",
      "  File \"D:\\program\\Miniconda3\\envs\\RML\\Lib\\subprocess.py\", line 1026, in __init__\n",
      "    self._execute_child(args, executable, preexec_fn, close_fds,\n",
      "  File \"D:\\program\\Miniconda3\\envs\\RML\\Lib\\subprocess.py\", line 1538, in _execute_child\n",
      "    hp, ht, pid, tid = _winapi.CreateProcess(executable, args,\n",
      "                       ^^^^^^^^^^^^^^^^^^^^^^^^^^^^^^^^^^^^^^^\n"
     ]
    }
   ],
   "execution_count": 3
  },
  {
   "metadata": {
    "ExecuteTime": {
     "end_time": "2025-06-19T16:10:31.306959Z",
     "start_time": "2025-06-19T16:10:21.110849Z"
    }
   },
   "cell_type": "code",
   "source": [
    "SPDMC = CmeansDiscreteMinmaxClassifier(n_clusters=T, fuzzifier=fuzzifier, cluster_centers=DMC.cluster_centers)\n",
    "SPDMC.fit(X, y)\n",
    "y_pred_SPDMC = SPDMC.predict(X)\n",
    "risks_SPDMC = compute_conditional_risk(y, y_pred_SPDMC)[0]\n",
    "print(\"SPDMC empirical class conditional risk:\\n\", risks_SPDMC, \"\\n\")"
   ],
   "id": "5b63c0e19583ea90",
   "outputs": [
    {
     "name": "stdout",
     "output_type": "stream",
     "text": [
      "SPDMC empirical class conditional risk:\n",
      " [0.76666667 0.77314815 0.78110384 0.78737659 0.77479147 0.78238342\n",
      " 0.8       ] \n",
      "\n"
     ]
    }
   ],
   "execution_count": 4
  },
  {
   "metadata": {
    "ExecuteTime": {
     "end_time": "2025-06-19T13:46:51.749474Z",
     "start_time": "2025-06-19T13:46:51.746555Z"
    }
   },
   "cell_type": "code",
   "source": "y",
   "id": "7c490b3275d88a62",
   "outputs": [
    {
     "data": {
      "text/plain": [
       "array([2, 2, 2, ..., 3, 4, 3])"
      ]
     },
     "execution_count": 42,
     "metadata": {},
     "output_type": "execute_result"
    }
   ],
   "execution_count": 42
  },
  {
   "metadata": {},
   "cell_type": "code",
   "outputs": [],
   "execution_count": null,
   "source": "",
   "id": "224131fe28d666da"
  }
 ],
 "metadata": {
  "kernelspec": {
   "display_name": "Python 3",
   "language": "python",
   "name": "python3"
  },
  "language_info": {
   "codemirror_mode": {
    "name": "ipython",
    "version": 2
   },
   "file_extension": ".py",
   "mimetype": "text/x-python",
   "name": "python",
   "nbconvert_exporter": "python",
   "pygments_lexer": "ipython2",
   "version": "2.7.6"
  }
 },
 "nbformat": 4,
 "nbformat_minor": 5
}
