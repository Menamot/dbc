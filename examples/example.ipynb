{
 "cells": [
  {
   "cell_type": "code",
   "id": "initial_id",
   "metadata": {
    "collapsed": true,
    "ExecuteTime": {
     "end_time": "2024-11-16T14:13:49.103411Z",
     "start_time": "2024-11-16T14:13:49.100407Z"
    }
   },
   "source": [
    "import numpy as np\n",
    "from sklearn import datasets\n",
    "from dbc import *"
   ],
   "outputs": [],
   "execution_count": 7
  },
  {
   "metadata": {
    "ExecuteTime": {
     "end_time": "2024-11-16T14:13:49.119525Z",
     "start_time": "2024-11-16T14:13:49.106574Z"
    }
   },
   "cell_type": "code",
   "source": [
    "K = 2\n",
    "L = np.ones((K,K)) - np.eye(K)\n",
    "np.random.seed(10)\n",
    "X_train, y_train = datasets.make_blobs(n_samples=[125 * 5, 70 * 3], n_features=2, centers=[(9.5, 10), (9.7, 9.4)],\n",
    "                                       cluster_std=[[0.6, 0.6], [0.35, 0.3]], shuffle=True, random_state=None)"
   ],
   "id": "77e00022e68dc182",
   "outputs": [],
   "execution_count": 8
  },
  {
   "metadata": {
    "ExecuteTime": {
     "end_time": "2024-11-16T14:13:49.144844Z",
     "start_time": "2024-11-16T14:13:49.128499Z"
    }
   },
   "cell_type": "code",
   "source": [
    "DBC_kmeans = DiscreteBayesianClassifier(discretization_method=\"kmeans\", discretization_params={\"n_clusters\": 20})\n",
    "DBC_kmeans.fit(X_train,y_train)\n",
    "y_pred = DBC_kmeans.predict(X_train, prior=np.array([0.7,0.3]), loss_function=L)\n",
    "compute_conditional_risk(y_train, y_pred, loss_function=L)"
   ],
   "id": "6ad595ad2c5d8883",
   "outputs": [
    {
     "data": {
      "text/plain": [
       "(array([0.2064    , 0.20952381]),\n",
       " array([[0.7936    , 0.2064    ],\n",
       "        [0.20952381, 0.79047619]]))"
      ]
     },
     "execution_count": 9,
     "metadata": {},
     "output_type": "execute_result"
    }
   ],
   "execution_count": 9
  },
  {
   "metadata": {
    "ExecuteTime": {
     "end_time": "2024-11-16T14:13:49.233482Z",
     "start_time": "2024-11-16T14:13:49.225829Z"
    }
   },
   "cell_type": "code",
   "source": "DBC_kmeans.predict_proba(X_train, prior=np.array([0.7,0.3]), loss_function=L)",
   "id": "b0ab99855b159a3",
   "outputs": [
    {
     "data": {
      "text/plain": [
       "array([[0.93860511, 0.06139489],\n",
       "       [0.36080998, 0.63919002],\n",
       "       [1.        , 0.        ],\n",
       "       ...,\n",
       "       [0.27184466, 0.72815534],\n",
       "       [0.36080998, 0.63919002],\n",
       "       [0.85297577, 0.14702423]])"
      ]
     },
     "execution_count": 10,
     "metadata": {},
     "output_type": "execute_result"
    }
   ],
   "execution_count": 10
  },
  {
   "metadata": {
    "ExecuteTime": {
     "end_time": "2024-11-16T14:13:49.410492Z",
     "start_time": "2024-11-16T14:13:49.266069Z"
    }
   },
   "cell_type": "code",
   "source": [
    "DBC_fcm = DiscreteBayesianClassifier(discretization_method=\"fcm\", discretization_params={\"n_clusters\": 20, \"fuzzifier\": 1.5})\n",
    "DBC_fcm.fit(X_train,y_train)\n",
    "y_pred = DBC_fcm.predict(X_train, prior=np.array([0.7,0.3]), loss_function=L)\n",
    "compute_conditional_risk(y_train, y_pred, loss_function=L)"
   ],
   "id": "307dd568b4b8b2db",
   "outputs": [
    {
     "data": {
      "text/plain": [
       "(array([0.1744    , 0.29047619]),\n",
       " array([[0.8256    , 0.1744    ],\n",
       "        [0.29047619, 0.70952381]]))"
      ]
     },
     "execution_count": 11,
     "metadata": {},
     "output_type": "execute_result"
    }
   ],
   "execution_count": 11
  },
  {
   "metadata": {
    "ExecuteTime": {
     "end_time": "2024-11-16T14:13:49.444834Z",
     "start_time": "2024-11-16T14:13:49.438430Z"
    }
   },
   "cell_type": "code",
   "source": "DBC_fcm.predict_proba(X_train, prior=np.array([0.7,0.3]), loss_function=L)",
   "id": "1535779430947e74",
   "outputs": [
    {
     "data": {
      "text/plain": [
       "array([[0.92273551, 0.07726449],\n",
       "       [0.39943644, 0.60056356],\n",
       "       [0.99048909, 0.00951091],\n",
       "       ...,\n",
       "       [0.3819068 , 0.6180932 ],\n",
       "       [0.39947921, 0.60052079],\n",
       "       [0.89282688, 0.10717312]])"
      ]
     },
     "execution_count": 12,
     "metadata": {},
     "output_type": "execute_result"
    }
   ],
   "execution_count": 12
  }
 ],
 "metadata": {
  "kernelspec": {
   "display_name": "Python 3",
   "language": "python",
   "name": "python3"
  },
  "language_info": {
   "codemirror_mode": {
    "name": "ipython",
    "version": 2
   },
   "file_extension": ".py",
   "mimetype": "text/x-python",
   "name": "python",
   "nbconvert_exporter": "python",
   "pygments_lexer": "ipython2",
   "version": "2.7.6"
  }
 },
 "nbformat": 4,
 "nbformat_minor": 5
}
