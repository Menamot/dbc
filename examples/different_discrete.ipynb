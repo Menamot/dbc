{
 "cells": [
  {
   "cell_type": "code",
   "id": "initial_id",
   "metadata": {
    "collapsed": true,
    "ExecuteTime": {
     "end_time": "2025-10-02T12:53:04.059721Z",
     "start_time": "2025-10-02T12:53:03.509822Z"
    }
   },
   "source": [
    "import torch.nn as nn\n",
    "import torch.nn.functional as F\n",
    "\n",
    "\n",
    "class ProfileBayesClassifier(nn.Module):\n",
    "    def __init__(self, input_dim, hidden_dim, num_profiles, num_classes,p_y):\n",
    "        super().__init__()\n",
    "        self.num_profiles = num_profiles\n",
    "        self.num_classes = num_classes\n",
    "        self.p_y = p_y\n",
    "        # Encoder\n",
    "        self.encoder = nn.Sequential(\n",
    "            nn.Linear(input_dim, 64),\n",
    "            nn.ReLU(),\n",
    "            nn.Linear(64, 64),\n",
    "            nn.ReLU(),\n",
    "            nn.Linear(64, 64),\n",
    "            nn.ReLU(),\n",
    "            nn.Linear(64, num_profiles)\n",
    "        )\n",
    "\n",
    "        # 使用 register_buffer 保持状态但不被训练\n",
    "        self.register_buffer(\"count_z_given_y\", torch.zeros(num_profiles, num_classes))  # [T, K]\n",
    "\n",
    "    def update_profile_counts(self, q_z_given_x, y_true):\n",
    "        \"\"\"\n",
    "        使用 soft assignment 更新 profile 频数表：\n",
    "        q_z_given_x: [B, T], y_true: [B]\n",
    "        \"\"\"\n",
    "        with torch.no_grad():\n",
    "            B, T = q_z_given_x.shape\n",
    "            K = self.num_classes\n",
    "            one_hot_y = F.one_hot(y_true, K).float()  # [B, K]\n",
    "            # outer product: for each sample, update count[z, y]\n",
    "            # Resulting shape: [B, T, K]\n",
    "            contrib = torch.einsum(\"bt,bk->btk\", q_z_given_x, one_hot_y)\n",
    "            self.count_z_given_y += contrib.sum(dim=0)  # sum over batch\n",
    "\n",
    "    def compute_p_z_given_y(self):\n",
    "        # 避免除以 0：加入平滑\n",
    "        smoothed = self.count_z_given_y + 1e-3\n",
    "        return smoothed / smoothed.sum(dim=0, keepdim=True)  # [T, K]\n",
    "\n",
    "\n",
    "\n",
    "    def forward(self, x):\n",
    "        # q(Z|X)\n",
    "        profile_logits = self.encoder(x)\n",
    "        q_z_given_x = F.softmax(profile_logits, dim=1)  # [B, T]\n",
    "\n",
    "        # Profile 后验\n",
    "        p_z_given_y = self.compute_p_z_given_y()  # [T, K]\n",
    "\n",
    "        # 归一化（每行归一）\n",
    "        p_z = (p_z_given_y * self.p_y.unsqueeze(0)).sum(dim=1)  # shape [T]\n",
    "\n",
    "        # 构造完整贝叶斯项：P(Z|Y)*P(Y) / P(Z)\n",
    "        bayes_matrix = (p_z_given_y * self.p_y.unsqueeze(0)) / (p_z.unsqueeze(1) + 1e-9)  # [T, K]\n",
    "\n",
    "        # 推理公式：P(Y|X) = sum_z P(Y|Z=z) * P(Z=z|X)\n",
    "        p_y_given_x = q_z_given_x @ bayes_matrix  # shape [B, K]\n",
    "        return p_y_given_x, q_z_given_x, p_z_given_y\n",
    "\n",
    "    def predict(self, x):\n",
    "        p_y_given_x, _, _ = self.forward(x)\n",
    "        return p_y_given_x\n",
    "\n",
    "def profile_entropy_regularization(q_z_given_x):\n",
    "        avg_profile = q_z_given_x.mean(dim=0) + 1e-9\n",
    "        return -torch.sum(avg_profile * avg_profile.log())\n",
    "\n",
    "def profile_kl_regularization(q_z_given_x):\n",
    "    avg_profile = q_z_given_x.mean(dim=0) + 1e-9\n",
    "    log_avg = avg_profile.log()\n",
    "    log_uniform = torch.full_like(log_avg, fill_value=torch.log(torch.tensor(1.0 / len(avg_profile))))\n",
    "    return torch.sum(avg_profile * (log_avg - log_uniform))\n",
    "\n",
    "\n",
    "import torch\n",
    "import torch.nn as nn\n",
    "import torch.nn.functional as F\n",
    "import math\n",
    "\n",
    "\n",
    "class GenerativeProfileBayesClassifier(nn.Module):\n",
    "    def __init__(self, input_dim, num_profiles, num_classes):\n",
    "        \"\"\"\n",
    "        input_dim: X 的维度\n",
    "        num_profiles: 潜在 profile 数 (T)\n",
    "        num_classes: 类别数 (K)\n",
    "        \"\"\"\n",
    "        super().__init__()\n",
    "        self.num_profiles = num_profiles\n",
    "        self.num_classes = num_classes\n",
    "\n",
    "        # p(Z) 先验 (Categorical 分布)\n",
    "        self.logits_pz = nn.Parameter(torch.zeros(num_profiles))  # [T]\n",
    "\n",
    "        # p(X|Z) = Gaussian(mu_z, diag(sigma^2_z))\n",
    "        self.mu = nn.Parameter(torch.randn(num_profiles, input_dim))  # [T, D]\n",
    "        self.logvar = nn.Parameter(torch.zeros(num_profiles, input_dim))  # [T, D]\n",
    "\n",
    "        # p(Y|Z) = Categorical\n",
    "        self.logits_y_given_z = nn.Parameter(torch.zeros(num_profiles, num_classes))  # [T, K]\n",
    "\n",
    "    def p_x_given_z(self, x):\n",
    "        \"\"\"\n",
    "        计算 p(x|z) for all z\n",
    "        x: [B, D], mu/logvar: [T, D]\n",
    "        return: [B, T]\n",
    "        \"\"\"\n",
    "        B, D = x.shape\n",
    "        x_expand = x.unsqueeze(1)  # [B, 1, D]\n",
    "        mu = self.mu.unsqueeze(0)  # [1, T, D]\n",
    "        logvar = self.logvar.unsqueeze(0)  # [1, T, D]\n",
    "        var = logvar.exp()\n",
    "\n",
    "        log_prob = -0.5 * (((x_expand - mu) ** 2) / var + logvar + math.log(2 * math.pi)).sum(dim=2)\n",
    "        return log_prob.exp()  # [B, T]\n",
    "\n",
    "    def forward(self, x):\n",
    "        \"\"\"\n",
    "        返回:\n",
    "          p_y_given_x: [B, K]\n",
    "          p_z_given_x: [B, T]\n",
    "        \"\"\"\n",
    "        B = x.size(0)\n",
    "\n",
    "        # p(z) = softmax(logits_pz)\n",
    "        p_z = F.softmax(self.logits_pz, dim=0)  # [T]\n",
    "\n",
    "        # p(x|z)\n",
    "        p_x_given_z = self.p_x_given_z(x)  # [B, T]\n",
    "\n",
    "        # p(z|x) ∝ p(x|z) p(z)\n",
    "        log_posterior = torch.log(p_x_given_z + 1e-9) + torch.log(p_z.unsqueeze(0) + 1e-9)  # [B, T]\n",
    "        p_z_given_x = F.softmax(log_posterior, dim=1)  # [B, T]\n",
    "\n",
    "        # p(y|z)\n",
    "        p_y_given_z = F.softmax(self.logits_y_given_z, dim=1)  # [T, K]\n",
    "\n",
    "        # p(y|x) = ∑_z p(y|z) p(z|x)\n",
    "        p_y_given_x = p_z_given_x @ p_y_given_z  # [B, K]\n",
    "\n",
    "        return p_y_given_x, p_z_given_x, p_y_given_z\n",
    "\n",
    "    def predict(self, x):\n",
    "        p_y_given_x, _, _ = self.forward(x)\n",
    "        return p_y_given_x\n",
    "\n",
    "    def generate(self, num_samples=10):\n",
    "        \"\"\"\n",
    "        生成样本 (x, y)\n",
    "        \"\"\"\n",
    "        with torch.no_grad():\n",
    "            # 1. 采样 z ~ p(z)\n",
    "            p_z = F.softmax(self.logits_pz, dim=0)\n",
    "            z = torch.multinomial(p_z, num_samples=num_samples, replacement=True)  # [N]\n",
    "\n",
    "            # 2. 采样 x ~ p(x|z)\n",
    "            mu = self.mu[z]       # [N, D]\n",
    "            logvar = self.logvar[z]\n",
    "            std = (0.5 * logvar).exp()\n",
    "            eps = torch.randn_like(std)\n",
    "            x = mu + eps * std\n",
    "\n",
    "            # 3. 采样 y ~ p(y|z)\n",
    "            p_y_given_z = F.softmax(self.logits_y_given_z[z], dim=1)  # [N, K]\n",
    "            y = torch.multinomial(p_y_given_z, num_samples=1).squeeze(1)  # [N]\n",
    "\n",
    "            return x, y, z\n"
   ],
   "outputs": [],
   "execution_count": 1
  },
  {
   "metadata": {
    "ExecuteTime": {
     "end_time": "2025-10-02T12:53:08.137666Z",
     "start_time": "2025-10-02T12:53:07.842619Z"
    }
   },
   "cell_type": "code",
   "source": [
    "import numpy as np\n",
    "from sklearn.compose import ColumnTransformer\n",
    "from sklearn.impute import SimpleImputer\n",
    "from sklearn.pipeline import Pipeline\n",
    "from sklearn.preprocessing import OneHotEncoder, StandardScaler\n",
    "from dbc.utils import compute_conditional_risk\n",
    "\n",
    "def make_preprocessor(X):\n",
    "    num_features = X.select_dtypes(include=[\"int64\", \"float64\"]).columns.tolist()\n",
    "    cat_features = X.select_dtypes(include=[\"object\", \"category\"]).columns.tolist()\n",
    "\n",
    "    num_transformer = Pipeline(steps=[\n",
    "        (\"imputer\", SimpleImputer(strategy=\"mean\")),\n",
    "        (\"scaler\", StandardScaler())\n",
    "    ])\n",
    "\n",
    "    cat_transformer = Pipeline(steps=[\n",
    "        (\"imputer\", SimpleImputer(strategy=\"most_frequent\")),\n",
    "        (\"onehot\", OneHotEncoder(handle_unknown=\"ignore\", sparse_output=False))\n",
    "    ])\n",
    "\n",
    "    preprocessor = ColumnTransformer(\n",
    "        transformers=[\n",
    "            (\"num\", num_transformer, num_features),\n",
    "            (\"cat\", cat_transformer, cat_features)\n",
    "        ]\n",
    "    )\n",
    "    return preprocessor\n",
    "\n",
    "def global_risk(y_true, y_pred):\n",
    "    return np.mean(y_true != y_pred)\n",
    "\n",
    "def max_gap(y_true, y_pred):\n",
    "    R = compute_conditional_risk(y_true, y_pred)[0]\n",
    "    return np.max(R) - np.min(R)\n",
    "\n",
    "def max_Rk(y_true, y_pred):\n",
    "    R = compute_conditional_risk(y_true, y_pred)[0]\n",
    "    return np.max(R)\n"
   ],
   "id": "dfcd6b6745ba5ec3",
   "outputs": [],
   "execution_count": 2
  },
  {
   "metadata": {
    "ExecuteTime": {
     "end_time": "2025-09-23T13:57:59.822808Z",
     "start_time": "2025-09-23T13:57:58.547811Z"
    }
   },
   "cell_type": "code",
   "source": [
    "from ucimlrepo import fetch_ucirepo\n",
    "from sklearn.preprocessing import LabelEncoder\n",
    "\n",
    "from sklearn.preprocessing import StandardScaler\n",
    "\n",
    "# df = fetch_ucirepo(id=17)  # Breast Cancer Wisconsin\n",
    "# df = fetch_ucirepo(id=15)  # Breast Cancer Wisconsin\n",
    "# df = fetch_ucirepo(id=53)  # IRIS\n",
    "# df = fetch_ucirepo(id=186)  # Wine quality\n",
    "# df = fetch_ucirepo(id=2)  # Adult\n",
    "# df = fetch_ucirepo(id=222)  # Bank Marketing\n",
    "df = fetch_ucirepo(id=19)  # Car Evaluation(表现很差)\n",
    "# df = fetch_ucirepo(id=73)  # Mushroom\n",
    "# df = fetch_ucirepo(id=59)  # Letter Recognition(不知道为什么这个数据集DMC和SPDMC效果很差,难道是分类类别过多导致的？)\n",
    "# df = fetch_ucirepo(id=149)  # Statlog (Vehicle Silhouettes)(如果SPDMC不收敛记得移除类别只有1个的)\n",
    "\n",
    "X = df.data.features.replace(\"?\", np.nan)  # Only for adult\n",
    "\n",
    "X = df.data.features\n",
    "X = make_preprocessor(X).fit_transform(X)\n",
    "y = df.data.targets.values.ravel()\n",
    "\n",
    "# Onlu for Statlog\n",
    "mask = y != '204'\n",
    "X = X.iloc[mask] if hasattr(X, 'iloc') else X[mask]\n",
    "y = y[mask]\n",
    "\n",
    "y = LabelEncoder().fit_transform(y)\n",
    "np.bincount(y)"
   ],
   "id": "f2743c1af22fe687",
   "outputs": [
    {
     "data": {
      "text/plain": [
       "array([ 384,   69, 1210,   65])"
      ]
     },
     "execution_count": 168,
     "metadata": {},
     "output_type": "execute_result"
    }
   ],
   "execution_count": 168
  },
  {
   "metadata": {
    "ExecuteTime": {
     "end_time": "2025-09-23T13:57:59.854091Z",
     "start_time": "2025-09-23T13:57:59.851741Z"
    }
   },
   "cell_type": "code",
   "source": [
    "from sklearn.model_selection import train_test_split\n",
    "\n",
    "# 分训练集与验证集\n",
    "X_train, X_val, y_train, y_val = train_test_split(X, y, test_size=0.3)"
   ],
   "id": "11347a58f8cb0c10",
   "outputs": [],
   "execution_count": 169
  },
  {
   "metadata": {
    "ExecuteTime": {
     "end_time": "2025-09-23T13:57:59.882009Z",
     "start_time": "2025-09-23T13:57:59.872604Z"
    }
   },
   "cell_type": "code",
   "source": [
    "\n",
    "from dbc.main import KmeansDiscreteBayesianClassifier, DecisionTreeDiscreteBayesianClassifier, KmeansDiscreteMinmaxClassifier, CmeansDiscreteMinmaxClassifier\n",
    "from dbc.utils import compute_conditional_risk\n",
    "from sklearn.metrics import accuracy_score\n",
    "\n",
    "DBC_kmeans = KmeansDiscreteBayesianClassifier(n_clusters=40)\n",
    "DBC_kmeans.fit(X_train, y_train)\n",
    "y_pred = DBC_kmeans.predict(X_val)\n",
    "conditional_risk = compute_conditional_risk(y_val, y_pred)\n",
    "print(f'Kmeans Class condition risk: \\n{conditional_risk[0]}')\n",
    "print(f'\\nKmeans Acc: \\n{accuracy_score(y_val, y_pred)}')"
   ],
   "id": "fd1c6a053725ee9b",
   "outputs": [
    {
     "name": "stdout",
     "output_type": "stream",
     "text": [
      "Kmeans Class condition risk: \n",
      "[0.19626168 1.         0.1462766  1.        ]\n",
      "\n",
      "Kmeans Acc: \n",
      "0.7842003853564548\n"
     ]
    }
   ],
   "execution_count": 170
  },
  {
   "metadata": {
    "ExecuteTime": {
     "end_time": "2025-09-23T13:57:59.955034Z",
     "start_time": "2025-09-23T13:57:59.946983Z"
    }
   },
   "cell_type": "code",
   "source": [
    "DBC_DT = DecisionTreeDiscreteBayesianClassifier(max_depth=3)\n",
    "DBC_DT.fit(X_train, y_train)\n",
    "y_pred = DBC_DT.predict(X_val)\n",
    "conditional_risk = compute_conditional_risk(y_val, y_pred)\n",
    "print(f'DT Class condition risk: \\n{conditional_risk[0]}')\n",
    "print(f'\\nDT Acc: \\n{accuracy_score(y_val, y_pred)}')"
   ],
   "id": "7d634f2f107104b7",
   "outputs": [
    {
     "name": "stdout",
     "output_type": "stream",
     "text": [
      "DT Class condition risk: \n",
      "[0.24299065 1.         0.11170213 1.        ]\n",
      "\n",
      "DT Acc: \n",
      "0.7996146435452793\n"
     ]
    }
   ],
   "execution_count": 171
  },
  {
   "metadata": {
    "ExecuteTime": {
     "end_time": "2025-09-23T13:58:01.578105Z",
     "start_time": "2025-09-23T13:58:00.320137Z"
    }
   },
   "cell_type": "code",
   "source": [
    "SPDMC = CmeansDiscreteMinmaxClassifier(n_clusters=40,fuzzifier=1.05)\n",
    "SPDMC.fit(X_train, y_train)\n",
    "y_pred = SPDMC.predict(X_val)\n",
    "conditional_risk = compute_conditional_risk(y_val, y_pred)\n",
    "print(f'Kmeans Class condition risk: \\n{conditional_risk[0]}')\n",
    "print(f'\\nKmeans Acc: \\n{accuracy_score(y_val, y_pred)}')"
   ],
   "id": "44c77a8cee3bc545",
   "outputs": [
    {
     "name": "stdout",
     "output_type": "stream",
     "text": [
      "Kmeans Class condition risk: \n",
      "[0.53271028 0.52941176 0.44946809 0.63157895]\n",
      "\n",
      "Kmeans Acc: \n",
      "0.5240847784200385\n"
     ]
    }
   ],
   "execution_count": 172
  },
  {
   "metadata": {
    "ExecuteTime": {
     "end_time": "2025-09-23T13:58:01.606337Z",
     "start_time": "2025-09-23T13:58:01.604256Z"
    }
   },
   "cell_type": "code",
   "source": [
    "from dbc.utils import compute_prior\n",
    "input_dim = X_train.shape[1]\n",
    "num_classes = len(np.unique(y_train))\n",
    "p_y = torch.tensor(compute_prior(y_train, num_classes), dtype=torch.float32)\n",
    "\n",
    "# 转成 Tensor\n",
    "X_train = torch.tensor(X_train, dtype=torch.float32)\n",
    "y_train = torch.tensor(y_train, dtype=torch.long)\n",
    "X_val = torch.tensor(X_val, dtype=torch.float32)\n",
    "y_val = torch.tensor(y_val, dtype=torch.long)"
   ],
   "id": "d4d40f685b7ac3f8",
   "outputs": [],
   "execution_count": 173
  },
  {
   "metadata": {
    "ExecuteTime": {
     "end_time": "2025-09-23T13:58:02.432777Z",
     "start_time": "2025-09-23T13:58:01.614783Z"
    }
   },
   "cell_type": "code",
   "source": [
    "from torch.utils.data import TensorDataset, DataLoader\n",
    "import matplotlib.pyplot as plt\n",
    "\n",
    "batch_size = 128\n",
    "train_dataset = TensorDataset(X_train, y_train)\n",
    "train_loader = DataLoader(train_dataset, batch_size=batch_size, shuffle=True)\n",
    "\n",
    "val_dataset = TensorDataset(X_val, y_val)\n",
    "val_loader = DataLoader(val_dataset, batch_size=batch_size)\n",
    "\n",
    "\n",
    "input_dim = X_train.shape[1]\n",
    "hidden_dim = 64\n",
    "num_profiles = 40\n",
    "num_classes = len(np.unique(y_train))\n",
    "\n",
    "model = ProfileBayesClassifier(input_dim, hidden_dim, num_profiles, num_classes,p_y)\n",
    "optimizer = torch.optim.Adam(model.parameters(), lr=1e-3)\n",
    "criterion = nn.CrossEntropyLoss()\n",
    "\n",
    "\n",
    "num_epochs = 100\n",
    "train_losses = []\n",
    "val_losses = []  # 添加验证损失列表\n",
    "train_accuracies = []\n",
    "val_accuracies = []\n",
    "\n",
    "for epoch in range(num_epochs):\n",
    "    # 训练阶段\n",
    "    model.train()\n",
    "    train_total_loss = 0\n",
    "    train_correct = 0\n",
    "    train_total = 0\n",
    "\n",
    "    for X_batch, y_batch in train_loader:\n",
    "        optimizer.zero_grad()\n",
    "        p_y_given_x, q_z_given_x, _ = model(X_batch)\n",
    "        model.update_profile_counts(q_z_given_x, y_batch)\n",
    "        loss = criterion(p_y_given_x, y_batch) + 0.1 * profile_kl_regularization(q_z_given_x)\n",
    "        loss.backward()\n",
    "        optimizer.step()\n",
    "        train_total_loss += loss.item()\n",
    "\n",
    "        train_preds = torch.argmax(p_y_given_x, dim=1)\n",
    "        train_correct += (train_preds == y_batch).sum().item()\n",
    "        train_total += y_batch.size(0)\n",
    "\n",
    "    train_losses.append(train_total_loss)\n",
    "    train_accuracies.append(train_correct / train_total)\n",
    "\n",
    "    # 验证阶段\n",
    "    model.eval()\n",
    "    val_total_loss = 0\n",
    "    correct = 0\n",
    "    total = 0\n",
    "\n",
    "    with torch.no_grad():\n",
    "        for X_batch, y_batch in val_loader:\n",
    "            p_y_given_x = model.predict(X_batch)\n",
    "            val_loss = criterion(p_y_given_x, y_batch)\n",
    "            val_total_loss += val_loss.item()\n",
    "\n",
    "            correct += (torch.argmax(p_y_given_x, dim=1) == y_batch).sum().item()\n",
    "            total += y_batch.size(0)\n",
    "\n",
    "    val_losses.append(val_total_loss)\n",
    "    acc = correct / total\n",
    "    val_accuracies.append(acc)\n",
    "\n",
    "    print(f\"Epoch {epoch+1:3d}: Train Loss={train_total_loss:.4f}, Val Loss={val_total_loss:.4f} | Train Acc={train_accuracies[-1]:.4f} | Val Acc={acc:.4f}\")\n",
    "\n",
    "# 绘制训练和验证损失\n",
    "plt.figure(figsize=(10, 5))\n",
    "\n",
    "# 损失曲线\n",
    "plt.subplot(1, 2, 1)\n",
    "plt.plot(range(1, num_epochs + 1), train_losses, 'b-', label='Train Loss')\n",
    "plt.plot(range(1, num_epochs + 1), val_losses, 'r-', label='Val Loss')\n",
    "plt.xlabel('Epoch')\n",
    "plt.ylabel('Loss')\n",
    "plt.title('Training and Validation Loss')\n",
    "plt.legend()\n",
    "plt.grid(True)\n",
    "\n",
    "# 准确率曲线\n",
    "plt.subplot(1, 2, 2)\n",
    "plt.plot(range(1, num_epochs + 1), train_accuracies, 'b-', label='Train Acc')\n",
    "plt.plot(range(1, num_epochs + 1), val_accuracies, 'r-', label='Val Acc')\n",
    "plt.xlabel('Epoch')\n",
    "plt.ylabel('Accuracy')\n",
    "plt.title('Training and Validation Accuracy')\n",
    "plt.legend()\n",
    "plt.grid(True)\n",
    "\n",
    "plt.tight_layout()\n",
    "plt.show()"
   ],
   "id": "df68791a201c0649",
   "outputs": [
    {
     "name": "stdout",
     "output_type": "stream",
     "text": [
      "Epoch   1: Train Loss=11.4129, Val Loss=5.6132 | Train Acc=0.6898 | Val Acc=0.7245\n",
      "Epoch   2: Train Loss=11.4172, Val Loss=5.6132 | Train Acc=0.6898 | Val Acc=0.7245\n",
      "Epoch   3: Train Loss=11.4258, Val Loss=5.6132 | Train Acc=0.6898 | Val Acc=0.7245\n",
      "Epoch   4: Train Loss=11.4185, Val Loss=5.6131 | Train Acc=0.6898 | Val Acc=0.7245\n",
      "Epoch   5: Train Loss=11.4445, Val Loss=5.6130 | Train Acc=0.6898 | Val Acc=0.7245\n",
      "Epoch   6: Train Loss=11.4440, Val Loss=5.6121 | Train Acc=0.6898 | Val Acc=0.7245\n",
      "Epoch   7: Train Loss=11.3892, Val Loss=5.6064 | Train Acc=0.6898 | Val Acc=0.7245\n",
      "Epoch   8: Train Loss=11.3972, Val Loss=5.5735 | Train Acc=0.6898 | Val Acc=0.7245\n",
      "Epoch   9: Train Loss=11.3013, Val Loss=5.4866 | Train Acc=0.6898 | Val Acc=0.7245\n",
      "Epoch  10: Train Loss=11.1516, Val Loss=5.3771 | Train Acc=0.6898 | Val Acc=0.7245\n",
      "Epoch  11: Train Loss=10.9144, Val Loss=5.2693 | Train Acc=0.6898 | Val Acc=0.7245\n",
      "Epoch  12: Train Loss=10.7530, Val Loss=5.1808 | Train Acc=0.6898 | Val Acc=0.7245\n",
      "Epoch  13: Train Loss=10.5930, Val Loss=5.1046 | Train Acc=0.6898 | Val Acc=0.7245\n",
      "Epoch  14: Train Loss=10.4766, Val Loss=5.0414 | Train Acc=0.6898 | Val Acc=0.7245\n",
      "Epoch  15: Train Loss=10.3783, Val Loss=4.9974 | Train Acc=0.6898 | Val Acc=0.7245\n",
      "Epoch  16: Train Loss=10.2352, Val Loss=4.9408 | Train Acc=0.6898 | Val Acc=0.7245\n",
      "Epoch  17: Train Loss=10.1206, Val Loss=4.8973 | Train Acc=0.6898 | Val Acc=0.7380\n",
      "Epoch  18: Train Loss=10.0738, Val Loss=4.8539 | Train Acc=0.8098 | Val Acc=0.8786\n",
      "Epoch  19: Train Loss=9.9835, Val Loss=4.8183 | Train Acc=0.8859 | Val Acc=0.8902\n",
      "Epoch  20: Train Loss=9.8991, Val Loss=4.7843 | Train Acc=0.8859 | Val Acc=0.9152\n",
      "Epoch  21: Train Loss=9.8408, Val Loss=4.7559 | Train Acc=0.9032 | Val Acc=0.9133\n",
      "Epoch  22: Train Loss=9.7801, Val Loss=4.7332 | Train Acc=0.9107 | Val Acc=0.8998\n",
      "Epoch  23: Train Loss=9.7477, Val Loss=4.7065 | Train Acc=0.9098 | Val Acc=0.9249\n",
      "Epoch  24: Train Loss=9.6946, Val Loss=4.6835 | Train Acc=0.9123 | Val Acc=0.9249\n",
      "Epoch  25: Train Loss=9.6380, Val Loss=4.6657 | Train Acc=0.9156 | Val Acc=0.9152\n",
      "Epoch  26: Train Loss=9.5895, Val Loss=4.6465 | Train Acc=0.9115 | Val Acc=0.9268\n",
      "Epoch  27: Train Loss=9.5545, Val Loss=4.6254 | Train Acc=0.9148 | Val Acc=0.9229\n",
      "Epoch  28: Train Loss=9.5027, Val Loss=4.6082 | Train Acc=0.9156 | Val Acc=0.9268\n",
      "Epoch  29: Train Loss=9.4830, Val Loss=4.5940 | Train Acc=0.9156 | Val Acc=0.9268\n",
      "Epoch  30: Train Loss=9.4727, Val Loss=4.5776 | Train Acc=0.9156 | Val Acc=0.9268\n",
      "Epoch  31: Train Loss=9.4176, Val Loss=4.5660 | Train Acc=0.9156 | Val Acc=0.9287\n",
      "Epoch  32: Train Loss=9.4098, Val Loss=4.5540 | Train Acc=0.9156 | Val Acc=0.9268\n",
      "Epoch  33: Train Loss=9.3894, Val Loss=4.5429 | Train Acc=0.9156 | Val Acc=0.9287\n",
      "Epoch  34: Train Loss=9.3630, Val Loss=4.5323 | Train Acc=0.9156 | Val Acc=0.9287\n",
      "Epoch  35: Train Loss=9.3348, Val Loss=4.5222 | Train Acc=0.9156 | Val Acc=0.9287\n",
      "Epoch  36: Train Loss=9.3005, Val Loss=4.5122 | Train Acc=0.9156 | Val Acc=0.9287\n",
      "Epoch  37: Train Loss=9.2801, Val Loss=4.5004 | Train Acc=0.9156 | Val Acc=0.9287\n",
      "Epoch  38: Train Loss=9.2605, Val Loss=4.4912 | Train Acc=0.9156 | Val Acc=0.9287\n",
      "Epoch  39: Train Loss=9.2322, Val Loss=4.4806 | Train Acc=0.9156 | Val Acc=0.9268\n",
      "Epoch  40: Train Loss=9.2439, Val Loss=4.4706 | Train Acc=0.9156 | Val Acc=0.9268\n",
      "Epoch  41: Train Loss=9.2019, Val Loss=4.4602 | Train Acc=0.9156 | Val Acc=0.9287\n",
      "Epoch  42: Train Loss=9.1654, Val Loss=4.4489 | Train Acc=0.9156 | Val Acc=0.9287\n",
      "Epoch  43: Train Loss=9.1450, Val Loss=4.4359 | Train Acc=0.9156 | Val Acc=0.9287\n",
      "Epoch  44: Train Loss=9.1292, Val Loss=4.4291 | Train Acc=0.9156 | Val Acc=0.9287\n",
      "Epoch  45: Train Loss=9.1293, Val Loss=4.4124 | Train Acc=0.9156 | Val Acc=0.9287\n",
      "Epoch  46: Train Loss=9.0863, Val Loss=4.3998 | Train Acc=0.9156 | Val Acc=0.9287\n",
      "Epoch  47: Train Loss=9.0775, Val Loss=4.3963 | Train Acc=0.9156 | Val Acc=0.9287\n",
      "Epoch  48: Train Loss=9.0252, Val Loss=4.3797 | Train Acc=0.9156 | Val Acc=0.9287\n",
      "Epoch  49: Train Loss=9.0189, Val Loss=4.3718 | Train Acc=0.9156 | Val Acc=0.9287\n",
      "Epoch  50: Train Loss=9.0027, Val Loss=4.3620 | Train Acc=0.9156 | Val Acc=0.9287\n",
      "Epoch  51: Train Loss=8.9542, Val Loss=4.3597 | Train Acc=0.9156 | Val Acc=0.9287\n",
      "Epoch  52: Train Loss=8.9540, Val Loss=4.3408 | Train Acc=0.9156 | Val Acc=0.9287\n",
      "Epoch  53: Train Loss=8.9290, Val Loss=4.3292 | Train Acc=0.9156 | Val Acc=0.9287\n",
      "Epoch  54: Train Loss=8.9041, Val Loss=4.3227 | Train Acc=0.9156 | Val Acc=0.9287\n",
      "Epoch  55: Train Loss=8.8776, Val Loss=4.3128 | Train Acc=0.9156 | Val Acc=0.9287\n",
      "Epoch  56: Train Loss=8.8903, Val Loss=4.3037 | Train Acc=0.9156 | Val Acc=0.9287\n",
      "Epoch  57: Train Loss=8.8724, Val Loss=4.2999 | Train Acc=0.9156 | Val Acc=0.9229\n",
      "Epoch  58: Train Loss=8.8465, Val Loss=4.2845 | Train Acc=0.9156 | Val Acc=0.9287\n",
      "Epoch  59: Train Loss=8.8190, Val Loss=4.2859 | Train Acc=0.9156 | Val Acc=0.9287\n",
      "Epoch  60: Train Loss=8.8104, Val Loss=4.2664 | Train Acc=0.9156 | Val Acc=0.9287\n",
      "Epoch  61: Train Loss=8.7735, Val Loss=4.2634 | Train Acc=0.9156 | Val Acc=0.9287\n",
      "Epoch  62: Train Loss=8.7747, Val Loss=4.2510 | Train Acc=0.9156 | Val Acc=0.9287\n",
      "Epoch  63: Train Loss=8.7432, Val Loss=4.2398 | Train Acc=0.9156 | Val Acc=0.9287\n",
      "Epoch  64: Train Loss=8.7439, Val Loss=4.2418 | Train Acc=0.9156 | Val Acc=0.9287\n",
      "Epoch  65: Train Loss=8.7519, Val Loss=4.2374 | Train Acc=0.9156 | Val Acc=0.9287\n",
      "Epoch  66: Train Loss=8.7452, Val Loss=4.2197 | Train Acc=0.9156 | Val Acc=0.9287\n",
      "Epoch  67: Train Loss=8.7233, Val Loss=4.2175 | Train Acc=0.9156 | Val Acc=0.9287\n",
      "Epoch  68: Train Loss=8.6931, Val Loss=4.2255 | Train Acc=0.9156 | Val Acc=0.9287\n",
      "Epoch  69: Train Loss=8.7072, Val Loss=4.2061 | Train Acc=0.9156 | Val Acc=0.9287\n",
      "Epoch  70: Train Loss=8.6740, Val Loss=4.1948 | Train Acc=0.9156 | Val Acc=0.9287\n",
      "Epoch  71: Train Loss=8.6721, Val Loss=4.1956 | Train Acc=0.9156 | Val Acc=0.9287\n",
      "Epoch  72: Train Loss=8.6427, Val Loss=4.1853 | Train Acc=0.9156 | Val Acc=0.9287\n",
      "Epoch  73: Train Loss=8.6350, Val Loss=4.1833 | Train Acc=0.9156 | Val Acc=0.9287\n",
      "Epoch  74: Train Loss=8.6162, Val Loss=4.1807 | Train Acc=0.9156 | Val Acc=0.9287\n",
      "Epoch  75: Train Loss=8.5964, Val Loss=4.1723 | Train Acc=0.9156 | Val Acc=0.9287\n",
      "Epoch  76: Train Loss=8.6181, Val Loss=4.1713 | Train Acc=0.9156 | Val Acc=0.9287\n",
      "Epoch  77: Train Loss=8.5801, Val Loss=4.1645 | Train Acc=0.9156 | Val Acc=0.9287\n",
      "Epoch  78: Train Loss=8.5880, Val Loss=4.1602 | Train Acc=0.9156 | Val Acc=0.9287\n",
      "Epoch  79: Train Loss=8.5605, Val Loss=4.1556 | Train Acc=0.9156 | Val Acc=0.9287\n",
      "Epoch  80: Train Loss=8.5619, Val Loss=4.1552 | Train Acc=0.9156 | Val Acc=0.9287\n",
      "Epoch  81: Train Loss=8.5619, Val Loss=4.1479 | Train Acc=0.9156 | Val Acc=0.9287\n",
      "Epoch  82: Train Loss=8.5420, Val Loss=4.1457 | Train Acc=0.9156 | Val Acc=0.9287\n",
      "Epoch  83: Train Loss=8.5467, Val Loss=4.1427 | Train Acc=0.9156 | Val Acc=0.9287\n",
      "Epoch  84: Train Loss=8.5290, Val Loss=4.1386 | Train Acc=0.9156 | Val Acc=0.9287\n",
      "Epoch  85: Train Loss=8.5273, Val Loss=4.1420 | Train Acc=0.9156 | Val Acc=0.9287\n",
      "Epoch  86: Train Loss=8.5101, Val Loss=4.1317 | Train Acc=0.9156 | Val Acc=0.9287\n",
      "Epoch  87: Train Loss=8.5034, Val Loss=4.1300 | Train Acc=0.9156 | Val Acc=0.9287\n",
      "Epoch  88: Train Loss=8.5022, Val Loss=4.1245 | Train Acc=0.9156 | Val Acc=0.9287\n",
      "Epoch  89: Train Loss=8.4845, Val Loss=4.1219 | Train Acc=0.9156 | Val Acc=0.9287\n",
      "Epoch  90: Train Loss=8.4813, Val Loss=4.1191 | Train Acc=0.9156 | Val Acc=0.9287\n",
      "Epoch  91: Train Loss=8.4641, Val Loss=4.1190 | Train Acc=0.9156 | Val Acc=0.9287\n",
      "Epoch  92: Train Loss=8.4777, Val Loss=4.1136 | Train Acc=0.9173 | Val Acc=0.9287\n",
      "Epoch  93: Train Loss=8.4671, Val Loss=4.1113 | Train Acc=0.9264 | Val Acc=0.9287\n",
      "Epoch  94: Train Loss=8.4552, Val Loss=4.1100 | Train Acc=0.9231 | Val Acc=0.9364\n",
      "Epoch  95: Train Loss=8.4640, Val Loss=4.1060 | Train Acc=0.9297 | Val Acc=0.9499\n",
      "Epoch  96: Train Loss=8.4521, Val Loss=4.1014 | Train Acc=0.9347 | Val Acc=0.9480\n",
      "Epoch  97: Train Loss=8.4448, Val Loss=4.1004 | Train Acc=0.9380 | Val Acc=0.9499\n",
      "Epoch  98: Train Loss=8.4413, Val Loss=4.1025 | Train Acc=0.9355 | Val Acc=0.9499\n",
      "Epoch  99: Train Loss=8.4449, Val Loss=4.0962 | Train Acc=0.9380 | Val Acc=0.9480\n",
      "Epoch 100: Train Loss=8.4361, Val Loss=4.0929 | Train Acc=0.9404 | Val Acc=0.9403\n"
     ]
    },
    {
     "data": {
      "text/plain": [
       "<Figure size 1000x500 with 2 Axes>"
      ],
      "image/png": "[encoded data removed]"
     },
     "metadata": {},
     "output_type": "display_data"
    }
   ],
   "execution_count": 174
  },
  {
   "metadata": {
    "ExecuteTime": {
     "end_time": "2025-09-23T13:58:02.669455Z",
     "start_time": "2025-09-23T13:58:02.664359Z"
    }
   },
   "cell_type": "code",
   "source": [
    "SPDMC.membership_degree = model(X_train)[1].detach().numpy().T\n",
    "membership_degree_pred = model(X_val)[1].detach().numpy().T\n",
    "from dbc.utils import compute_b_risk, compute_p_hat_with_degree\n",
    "p_hat = compute_p_hat_with_degree(SPDMC.membership_degree,y_train,num_classes)\n",
    "\n",
    "\n",
    "y_pred = np.argmin(compute_b_risk(membership_degree_pred, p_hat, SPDMC.prior,SPDMC.loss_function),axis=1)\n",
    "\n",
    "conditional_risk = compute_conditional_risk(y_val.numpy(), y_pred)\n",
    "print(f'discriminative SPDBC condition risk: \\n{conditional_risk[0]}')\n",
    "print(f'\\nAcc: \\n{accuracy_score(y_val, y_pred)}')"
   ],
   "id": "e27ce8d8183a30a1",
   "outputs": [
    {
     "name": "stdout",
     "output_type": "stream",
     "text": [
      "discriminative SPDBC condition risk: \n",
      "[0.00934579 0.05882353 0.00265957 0.36842105]\n",
      "\n",
      "Acc: \n",
      "0.9807321772639692\n"
     ]
    }
   ],
   "execution_count": 175
  },
  {
   "metadata": {
    "ExecuteTime": {
     "end_time": "2025-09-23T13:58:08.509141Z",
     "start_time": "2025-09-23T13:58:04.050277Z"
    }
   },
   "cell_type": "code",
   "source": [
    "SPDMC.membership_degree = model(X_train)[1].detach().numpy().T\n",
    "membership_degree_pred = model(X_val)[1].detach().numpy().T\n",
    "from dbc.utils import compute_SPDBC_pi_star\n",
    "SPDMC.pi_star = compute_SPDBC_pi_star(X_train.numpy(), y_train.numpy(), SPDMC.loss_function, p_hat, SPDMC.membership_degree, SPDMC.prior,alpha=1,beta=0.8,n_iter=1000)\n",
    "\n",
    "y_pred = np.argmin(compute_b_risk(SPDMC.membership_degree, p_hat, SPDMC.pi_star,SPDMC.loss_function),axis=1)\n",
    "\n",
    "conditional_risk = compute_conditional_risk(y_train.numpy(), y_pred)\n",
    "print(f'discriminative SPDMC condition risk: \\n{conditional_risk[0]}')\n",
    "print(f'\\nAcc: \\n{accuracy_score(y_train, y_pred)}')"
   ],
   "id": "deb16f7228d544d9",
   "outputs": [
    {
     "name": "stdout",
     "output_type": "stream",
     "text": [
      "discriminative SPDMC condition risk: \n",
      "[0.27436823 0.26923077 0.00479616 0.26086957]\n",
      "\n",
      "Acc: \n",
      "0.91232423490488\n"
     ]
    }
   ],
   "execution_count": 176
  },
  {
   "metadata": {
    "ExecuteTime": {
     "end_time": "2025-09-23T13:58:55.320280Z",
     "start_time": "2025-09-23T13:58:55.317576Z"
    }
   },
   "cell_type": "code",
   "source": "SPDMC.pi_star",
   "id": "4a9631345b3ea69",
   "outputs": [
    {
     "data": {
      "text/plain": [
       "array([2.08150206e-03, 4.90250281e-01, 5.91432527e-05, 5.07609074e-01])"
      ]
     },
     "execution_count": 177,
     "metadata": {},
     "output_type": "execute_result"
    }
   ],
   "execution_count": 177
  },
  {
   "metadata": {
    "ExecuteTime": {
     "end_time": "2025-09-23T13:59:57.420426Z",
     "start_time": "2025-09-23T13:59:57.417356Z"
    }
   },
   "cell_type": "code",
   "source": [
    "# SPDMC.membership_degree = model(X_train)[1].detach().numpy().T\n",
    "# membership_degree_pred = model(X_val)[1].detach().numpy().T\n",
    "# from dbc.utils import compute_SPDBC_pi_star\n",
    "# SPDMC.pi_star = compute_SPDBC_pi_star(X_train.numpy(), y_train.numpy(), SPDMC.loss_function, p_hat, SPDMC.membership_degree, SPDMC.prior,alpha=1,beta=0.8,n_iter=1000)\n",
    "\n",
    "y_pred = np.argmin(compute_b_risk(membership_degree_pred, p_hat, SPDMC.pi_star,SPDMC.loss_function),axis=1)\n",
    "\n",
    "conditional_risk = compute_conditional_risk(y_val.numpy(), y_pred)\n",
    "print(f'discriminative SPDMC condition risk: \\n{conditional_risk[0]}')\n",
    "print(f'\\nAcc: \\n{accuracy_score(y_val, y_pred)}')"
   ],
   "id": "d60e5c33a2b4220d",
   "outputs": [
    {
     "name": "stdout",
     "output_type": "stream",
     "text": [
      "discriminative SPDMC condition risk: \n",
      "[0.3271028  0.35294118 0.0106383  0.36842105]\n",
      "\n",
      "Acc: \n",
      "0.8998073217726397\n"
     ]
    }
   ],
   "execution_count": 178
  },
  {
   "metadata": {
    "ExecuteTime": {
     "end_time": "2025-09-23T12:46:40.625677Z",
     "start_time": "2025-09-23T12:46:26.894056Z"
    }
   },
   "cell_type": "code",
   "source": [
    "from torch.utils.data import TensorDataset, DataLoader\n",
    "import matplotlib.pyplot as plt\n",
    "\n",
    "batch_size = 128\n",
    "train_dataset = TensorDataset(X_train, y_train)\n",
    "train_loader = DataLoader(train_dataset, batch_size=batch_size, shuffle=True)\n",
    "\n",
    "val_dataset = TensorDataset(X_val, y_val)\n",
    "val_loader = DataLoader(val_dataset, batch_size=batch_size)\n",
    "\n",
    "num_profiles = 20\n",
    "\n",
    "# 用生成式版本\n",
    "model = GenerativeProfileBayesClassifier(input_dim, num_profiles, num_classes)\n",
    "optimizer = torch.optim.Adam(model.parameters(), lr=1e-3)\n",
    "criterion = nn.CrossEntropyLoss()\n",
    "\n",
    "num_epochs = 50\n",
    "train_losses = []\n",
    "val_losses = []\n",
    "train_accuracies = []\n",
    "val_accuracies = []\n",
    "\n",
    "for epoch in range(num_epochs):\n",
    "    # 训练阶段\n",
    "    model.train()\n",
    "    train_total_loss = 0\n",
    "    train_correct = 0\n",
    "    train_total = 0\n",
    "\n",
    "    for X_batch, y_batch in train_loader:\n",
    "        optimizer.zero_grad()\n",
    "        p_y_given_x, p_z_given_x, p_y_given_z = model(X_batch)\n",
    "\n",
    "        loss = criterion(p_y_given_x, y_batch)  # 分类损失\n",
    "        loss.backward()\n",
    "        optimizer.step()\n",
    "\n",
    "        train_total_loss += loss.item()\n",
    "        train_preds = torch.argmax(p_y_given_x, dim=1)\n",
    "        train_correct += (train_preds == y_batch).sum().item()\n",
    "        train_total += y_batch.size(0)\n",
    "\n",
    "    train_losses.append(train_total_loss)\n",
    "    train_accuracies.append(train_correct / train_total)\n",
    "\n",
    "    # 验证阶段\n",
    "    model.eval()\n",
    "    val_total_loss = 0\n",
    "    correct = 0\n",
    "    total = 0\n",
    "\n",
    "    with torch.no_grad():\n",
    "        for X_batch, y_batch in val_loader:\n",
    "            p_y_given_x, _, _ = model(X_batch)\n",
    "            val_loss = criterion(p_y_given_x, y_batch)\n",
    "            val_total_loss += val_loss.item()\n",
    "\n",
    "            preds = torch.argmax(p_y_given_x, dim=1)\n",
    "            correct += (preds == y_batch).sum().item()\n",
    "            total += y_batch.size(0)\n",
    "\n",
    "    val_losses.append(val_total_loss)\n",
    "    val_accuracies.append(correct / total)\n",
    "\n",
    "    print(f\"Epoch {epoch+1:3d}: \"\n",
    "          f\"Train Loss={train_total_loss:.4f}, Val Loss={val_total_loss:.4f} | \"\n",
    "          f\"Train Acc={train_accuracies[-1]:.4f} | Val Acc={val_accuracies[-1]:.4f}\")\n",
    "\n",
    "# 绘制训练和验证曲线\n",
    "plt.figure(figsize=(10, 5))\n",
    "\n",
    "plt.subplot(1, 2, 1)\n",
    "plt.plot(range(1, num_epochs + 1), train_losses, 'b-', label='Train Loss')\n",
    "plt.plot(range(1, num_epochs + 1), val_losses, 'r-', label='Val Loss')\n",
    "plt.xlabel('Epoch')\n",
    "plt.ylabel('Loss')\n",
    "plt.title('Training and Validation Loss')\n",
    "plt.legend()\n",
    "plt.grid(True)\n",
    "\n",
    "plt.subplot(1, 2, 2)\n",
    "plt.plot(range(1, num_epochs + 1), train_accuracies, 'b-', label='Train Acc')\n",
    "plt.plot(range(1, num_epochs + 1), val_accuracies, 'r-', label='Val Acc')\n",
    "plt.xlabel('Epoch')\n",
    "plt.ylabel('Accuracy')\n",
    "plt.title('Training and Validation Accuracy')\n",
    "plt.legend()\n",
    "plt.grid(True)\n",
    "\n",
    "plt.tight_layout()\n",
    "plt.show()\n"
   ],
   "id": "b1e881e2c4162766",
   "outputs": [
    {
     "name": "stdout",
     "output_type": "stream",
     "text": [
      "Epoch   1: Train Loss=366.9609, Val Loss=155.4231 | Train Acc=0.5043 | Val Acc=0.5086\n",
      "Epoch   2: Train Loss=357.6392, Val Loss=151.4749 | Train Acc=0.5051 | Val Acc=0.5086\n",
      "Epoch   3: Train Loss=349.4148, Val Loss=148.3420 | Train Acc=0.5051 | Val Acc=0.5086\n",
      "Epoch   4: Train Loss=343.4763, Val Loss=146.2654 | Train Acc=0.5051 | Val Acc=0.5086\n",
      "Epoch   5: Train Loss=339.7363, Val Loss=144.9650 | Train Acc=0.5051 | Val Acc=0.5086\n",
      "Epoch   6: Train Loss=337.4363, Val Loss=144.1505 | Train Acc=0.5051 | Val Acc=0.5086\n",
      "Epoch   7: Train Loss=335.9410, Val Loss=143.6100 | Train Acc=0.5051 | Val Acc=0.5086\n",
      "Epoch   8: Train Loss=334.9955, Val Loss=143.2439 | Train Acc=0.5051 | Val Acc=0.5086\n",
      "Epoch   9: Train Loss=334.0820, Val Loss=142.9807 | Train Acc=0.5051 | Val Acc=0.5086\n",
      "Epoch  10: Train Loss=333.7412, Val Loss=142.7842 | Train Acc=0.5051 | Val Acc=0.5086\n",
      "Epoch  11: Train Loss=333.3571, Val Loss=142.6355 | Train Acc=0.5051 | Val Acc=0.5086\n",
      "Epoch  12: Train Loss=333.0112, Val Loss=142.5193 | Train Acc=0.5051 | Val Acc=0.5086\n",
      "Epoch  13: Train Loss=332.7723, Val Loss=142.4268 | Train Acc=0.5051 | Val Acc=0.5086\n",
      "Epoch  14: Train Loss=332.5261, Val Loss=142.3504 | Train Acc=0.5051 | Val Acc=0.5086\n",
      "Epoch  15: Train Loss=332.5515, Val Loss=142.2876 | Train Acc=0.5051 | Val Acc=0.5086\n",
      "Epoch  16: Train Loss=332.3021, Val Loss=142.2355 | Train Acc=0.5051 | Val Acc=0.5086\n",
      "Epoch  17: Train Loss=332.3183, Val Loss=142.1910 | Train Acc=0.5051 | Val Acc=0.5086\n",
      "Epoch  18: Train Loss=331.9823, Val Loss=142.1529 | Train Acc=0.5051 | Val Acc=0.5086\n",
      "Epoch  19: Train Loss=332.0841, Val Loss=142.1191 | Train Acc=0.5051 | Val Acc=0.5086\n",
      "Epoch  20: Train Loss=331.9592, Val Loss=142.0903 | Train Acc=0.5051 | Val Acc=0.5086\n",
      "Epoch  21: Train Loss=331.8232, Val Loss=142.0651 | Train Acc=0.5051 | Val Acc=0.5086\n",
      "Epoch  22: Train Loss=331.8842, Val Loss=142.0424 | Train Acc=0.5051 | Val Acc=0.5086\n",
      "Epoch  23: Train Loss=332.0306, Val Loss=142.0225 | Train Acc=0.5051 | Val Acc=0.5086\n",
      "Epoch  24: Train Loss=331.7976, Val Loss=142.0046 | Train Acc=0.5051 | Val Acc=0.5086\n",
      "Epoch  25: Train Loss=331.7637, Val Loss=141.9886 | Train Acc=0.5051 | Val Acc=0.5086\n",
      "Epoch  26: Train Loss=331.7261, Val Loss=141.9741 | Train Acc=0.5051 | Val Acc=0.5086\n",
      "Epoch  27: Train Loss=331.6836, Val Loss=141.9611 | Train Acc=0.5051 | Val Acc=0.5086\n",
      "Epoch  28: Train Loss=331.6483, Val Loss=141.9495 | Train Acc=0.5051 | Val Acc=0.5086\n",
      "Epoch  29: Train Loss=331.6143, Val Loss=141.9390 | Train Acc=0.5051 | Val Acc=0.5086\n",
      "Epoch  30: Train Loss=331.6709, Val Loss=141.9298 | Train Acc=0.5051 | Val Acc=0.5086\n",
      "Epoch  31: Train Loss=331.5740, Val Loss=141.9214 | Train Acc=0.5051 | Val Acc=0.5086\n",
      "Epoch  32: Train Loss=331.6591, Val Loss=141.9137 | Train Acc=0.5051 | Val Acc=0.5086\n",
      "Epoch  33: Train Loss=331.5965, Val Loss=141.9075 | Train Acc=0.5051 | Val Acc=0.5086\n",
      "Epoch  34: Train Loss=331.4476, Val Loss=141.9017 | Train Acc=0.5051 | Val Acc=0.5086\n",
      "Epoch  35: Train Loss=331.4319, Val Loss=141.8961 | Train Acc=0.5051 | Val Acc=0.5086\n",
      "Epoch  36: Train Loss=331.3591, Val Loss=141.8908 | Train Acc=0.5051 | Val Acc=0.5086\n",
      "Epoch  37: Train Loss=331.5432, Val Loss=141.8869 | Train Acc=0.5051 | Val Acc=0.5086\n",
      "Epoch  38: Train Loss=331.3886, Val Loss=141.8822 | Train Acc=0.5051 | Val Acc=0.5086\n",
      "Epoch  39: Train Loss=331.5671, Val Loss=141.8789 | Train Acc=0.5051 | Val Acc=0.5086\n",
      "Epoch  40: Train Loss=331.3852, Val Loss=141.8763 | Train Acc=0.5051 | Val Acc=0.5086\n",
      "Epoch  41: Train Loss=331.1308, Val Loss=141.8728 | Train Acc=0.5051 | Val Acc=0.5086\n",
      "Epoch  42: Train Loss=331.5487, Val Loss=141.8691 | Train Acc=0.5051 | Val Acc=0.5086\n",
      "Epoch  43: Train Loss=331.1749, Val Loss=141.8679 | Train Acc=0.5051 | Val Acc=0.5086\n",
      "Epoch  44: Train Loss=331.1747, Val Loss=141.8650 | Train Acc=0.5051 | Val Acc=0.5086\n",
      "Epoch  45: Train Loss=331.2841, Val Loss=141.8631 | Train Acc=0.5051 | Val Acc=0.5086\n",
      "Epoch  46: Train Loss=331.2168, Val Loss=141.8614 | Train Acc=0.5051 | Val Acc=0.5086\n",
      "Epoch  47: Train Loss=331.5844, Val Loss=141.8593 | Train Acc=0.5051 | Val Acc=0.5086\n",
      "Epoch  48: Train Loss=331.3904, Val Loss=141.8587 | Train Acc=0.5051 | Val Acc=0.5086\n",
      "Epoch  49: Train Loss=331.4502, Val Loss=141.8577 | Train Acc=0.5051 | Val Acc=0.5086\n",
      "Epoch  50: Train Loss=331.5610, Val Loss=141.8568 | Train Acc=0.5051 | Val Acc=0.5086\n"
     ]
    },
    {
     "data": {
      "text/plain": [
       "<Figure size 1000x500 with 2 Axes>"
      ],
      "image/png": "[encoded data removed]"
     },
     "metadata": {},
     "output_type": "display_data"
    }
   ],
   "execution_count": 165
  },
  {
   "metadata": {
    "ExecuteTime": {
     "end_time": "2025-09-23T12:46:40.822773Z",
     "start_time": "2025-09-23T12:46:40.637220Z"
    }
   },
   "cell_type": "code",
   "source": [
    "SPDMC.membership_degree = model(X_train)[1].detach().numpy().T\n",
    "membership_degree_pred = model(X_val)[1].detach().numpy().T\n",
    "from dbc.utils import compute_b_risk, compute_p_hat_with_degree\n",
    "p_hat = compute_p_hat_with_degree(SPDMC.membership_degree,y_train,num_classes)\n",
    "\n",
    "\n",
    "y_pred = np.argmin(compute_b_risk(membership_degree_pred, p_hat, SPDMC.prior,SPDMC.loss_function),axis=1)\n",
    "\n",
    "conditional_risk = compute_conditional_risk(y_val.numpy(), y_pred)\n",
    "print(f'Kmeans Class condition risk: \\n{conditional_risk[0]}')\n",
    "print(f'\\nKmeans Acc: \\n{accuracy_score(y_val, y_pred)}')"
   ],
   "id": "e4fb1652bc4b7f13",
   "outputs": [
    {
     "name": "stdout",
     "output_type": "stream",
     "text": [
      "Kmeans Class condition risk: \n",
      "[0. 1. 1. 1.]\n",
      "\n",
      "Kmeans Acc: \n",
      "0.508564799017266\n"
     ]
    }
   ],
   "execution_count": 166
  },
  {
   "metadata": {
    "ExecuteTime": {
     "end_time": "2025-09-23T12:48:43.675890Z",
     "start_time": "2025-09-23T12:46:40.830613Z"
    }
   },
   "cell_type": "code",
   "source": [
    "SPDMC.membership_degree = model(X_train)[1].detach().numpy().T\n",
    "membership_degree_pred = model(X_val)[1].detach().numpy().T\n",
    "from dbc.utils import compute_SPDBC_pi_star\n",
    "SPDMC.pi_star = compute_SPDBC_pi_star(X_train.numpy(), y_train.numpy(), SPDMC.loss_function, p_hat, SPDMC.membership_degree, SPDMC.prior,alpha=1,beta=0.8,n_iter=1000)\n",
    "\n",
    "y_pred = np.argmin(compute_b_risk(SPDMC.membership_degree, p_hat, SPDMC.pi_star,SPDMC.loss_function),axis=1)\n",
    "\n",
    "conditional_risk = compute_conditional_risk(y_train.numpy(), y_pred)\n",
    "print(f'Kmeans Class condition risk: \\n{conditional_risk[0]}')\n",
    "print(f'\\nKmeans Acc: \\n{accuracy_score(y_train, y_pred)}')"
   ],
   "id": "7ccc4b01b2067565",
   "outputs": [
    {
     "name": "stdout",
     "output_type": "stream",
     "text": [
      "Kmeans Class condition risk: \n",
      "[1. 1. 1. 0.]\n",
      "\n",
      "Kmeans Acc: \n",
      "0.0784170347187692\n"
     ]
    }
   ],
   "execution_count": 167
  },
  {
   "metadata": {
    "ExecuteTime": {
     "end_time": "2025-09-23T12:43:51.364043Z",
     "start_time": "2025-09-23T12:40:53.097101Z"
    }
   },
   "cell_type": "code",
   "source": "SPDMC.pi_star",
   "id": "7ccba2d1ac086b7",
   "outputs": [
    {
     "data": {
      "text/plain": [
       "array([0.34509793, 0.30696167, 0.04090664, 0.30703376])"
      ]
     },
     "execution_count": 151,
     "metadata": {},
     "output_type": "execute_result"
    }
   ],
   "execution_count": 151
  },
  {
   "metadata": {
    "ExecuteTime": {
     "end_time": "2025-09-23T12:43:51.364128Z",
     "start_time": "2025-09-23T12:40:53.113752Z"
    }
   },
   "cell_type": "code",
   "source": "",
   "id": "bef09482b2e745ce",
   "outputs": [],
   "execution_count": null
  }
 ],
 "metadata": {
  "kernelspec": {
   "display_name": "Python 3",
   "language": "python",
   "name": "python3"
  },
  "language_info": {
   "codemirror_mode": {
    "name": "ipython",
    "version": 2
   },
   "file_extension": ".py",
   "mimetype": "text/x-python",
   "name": "python",
   "nbconvert_exporter": "python",
   "pygments_lexer": "ipython2",
   "version": "2.7.6"
  }
 },
 "nbformat": 4,
 "nbformat_minor": 5
}
